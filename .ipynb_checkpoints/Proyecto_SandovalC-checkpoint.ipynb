{
 "cells": [
  {
   "cell_type": "markdown",
   "metadata": {},
   "source": [
    "<h1 style=\"text-align: center;\">Caso particular de valuación de startups mediante simulaciones MonteCarlo: Barras energéticas promotoras de actividad cognitiva.</h1>"
   ]
  },
  {
   "cell_type": "markdown",
   "metadata": {},
   "source": [
    "<h2 align=\"center\">21 de Octubre del 2018</h2>"
   ]
  },
  {
   "cell_type": "markdown",
   "metadata": {},
   "source": [
    "<h3 align=\"right\">Carlos Alejandro Gutiérrez Sandoval </h3>"
   ]
  },
  {
   "cell_type": "markdown",
   "metadata": {},
   "source": [
    "## Objetivo\n",
    "\n",
    "> ### General\n",
    "><div style=\"text-align: justify\">Se necesita determinar el valor de una empresa sin información financiera mediante flujos descontados de efectivo; la única información disponible es la que se encuentra de manera pública en el mercado.</div>\n",
    ">\n",
    "> ### Específicos\n",
    "\n",
    "<div style=\"text-align: justify\">  \n",
    "    \n",
    ">- Simular el comportamiento de costos de producción mediante un modelo estocástico y simulación montecarlo.\n",
    ">- Ajustar los costos de producción por el tipo cambiario, modelando el tipo cambiario como un proceso estocástico y utilizando simulación montecarlo.\n",
    ">- Proponer un modelo polinomial representativo de los costos de producción utilizando las variables aleatorias generadas y reglas de negocio en caso de ser necesario.\n",
    ">- Proponer una variable aleatoria que describa el comportamiento de las ventas.\n",
    ">- Simular ingresos con simulación montecarlo y el desarrollo previo.\n",
    "</div>"
   ]
  },
  {
   "cell_type": "markdown",
   "metadata": {},
   "source": [
    "## Definición del problema\n",
    "> <div style=\"text-align: justify\">Una empresa de reciente creación está por firmar un acuerdo de confidencialidad con una maquiladora. El contrato estipula que de faltarse a este mismo la maquiladora está obligada a pagar a una multa considerable. La maquiladora exige que la multa pactada vaya acorde al valor de la empresa de nueva creación. Se necesita una valuación financiera de la empresa para poder concretar el contrato. La empresa necesita la maquiladora para generar ventas por lo que la información financiera es limitada o inexistente. Se contrata a una empresa externa para realizar una valuación utilizando información pública disponible y reglas de negocio marcadas por la industria o la empresa en cuestión.</div>\n",
    ">\n",
    "><div style=\"text-align: justify\">Se piensa que mediante simulación y procesos estocásticos se puede valuar a la empresa, se sugiere construir la valuación por nodos, donde cada nodo cumple con un desarrollo y propósito específicos marcados por las siguientes pautas:</div\n",
    "\n",
    "- Un nodo tiene un desarrollo y propósito concreto; si un nodo tiene más de un propósito, este se puede dividir, con el objetivo que los nodos sean autocontenidos y atómicos en sí.\n",
    "- Cada nodo puede tener entradas y salidas utilizables por otros nodos.\n",
    "- Cada nodo puede contener los siguientes elementos:\n",
    "    - Atributos\n",
    "    - Variables\n",
    "    - Reglas de negocio\n",
    "    - Reglas de operación    \n",
    "    - Métodos y procedimientos\n",
    "- Los supuestos tienen que estar representados como elementos de un nodo.\n",
    "\n"
   ]
  },
  {
   "cell_type": "markdown",
   "metadata": {},
   "source": [
    "___\n",
    "### 1.3 Definición del problema.\n",
    "> Se debe describir en una cuartilla máximo cuál es el escenario de negocio que se va a modelar, identificar cuáles son los supuestos que defines en el negocio y cuáles son los \"nodos\" o \"escenarios\" que identificas necesarios simular y porqué. Debes elaborar un diagrama de inicio a fin, identificando los \"nodos\" o \"escenarios\" a simular.\n",
    "\n",
    "### 1.4 Nodos y variables que se decidieron simular y porqué\n",
    "> En este apartado el objetivo es identificar los problemas que se van a abordar, para examinar la factibilidad y viabilidad de la simulación de los nodos escogidos. Posteriormente se debe de argumentar del porqué de los nodos escogidos.\n",
    "\n",
    "### 1.5 Definición de hipótesis y supuestos.\n",
    ">  Para poder modelar un proceso de negocio o cualquiera otro proceso en el área de las ingenierías o ciencias sociales, después de identificar el objeto de estudio, es importante indicar cuales son los supuestos que se dan por verdaderos a lo largo de la ejecución del proceso. Estos supuestos se deben indicar en forma de variables e hipótesis (son diferentes), porque si puedes definir en un valor el supuesto lo llamaremos \"supuesto constante\" y si no es posible identificarlo con un número entonces será una hipótesis que afectará la construcción de los escenarios posibles del proceso.\n",
    "\n",
    "### 1.6 Obtención de bases de datos\n",
    "> El tercer paso del proyecto es indicar de dónde se obtendrán las bases de datos, que indican como se han comportado las variables que identificaste en tu proceso de negocio que vas a simular. En esta investigación debes haber encontrado información propia de la empresa, organización o institución que vas a simular y otra parte de la información debe provenir de investigación que realices en fuentes de información públicas o privadas como las que tiene SECOBI, ahí normalmente y dependiendo del problema elegido, se investigan variables económicas, como tasas de interés, inflación, tipo de cambio, etc., de varios años, por poner un ejemplo.\n",
    "\n",
    "### 1.7 Visualización de resultados de simulación.\n",
    "> Se deben simular al menos 4  \"nodos\" o \"escenarios\" en tu problema. Para la segunda entrega debes haber elaborado un programa que simule dos de ellos, los primeros dos de tu diagrama.\n",
    "> Para la entrega final deben de tener los 4 nodos con todas sus simulaciones.\n",
    "\n",
    "### 1.6 Conclusiones.\n",
    "> Mucho cuidado, las conclusiones no son cualquier cosa. Se debe concluir respecto a los objetivos planteados de acuerdo a los resultados obtenidos.\n",
    "\n",
    "### 1.7 Referencias.\n",
    "> Citar (en formato APA) la bibliografía utilizada."
   ]
  },
  {
   "cell_type": "code",
   "execution_count": null,
   "metadata": {},
   "outputs": [],
   "source": []
  }
 ],
 "metadata": {
  "kernelspec": {
   "display_name": "Python 3",
   "language": "python",
   "name": "python3"
  },
  "language_info": {
   "codemirror_mode": {
    "name": "ipython",
    "version": 3
   },
   "file_extension": ".py",
   "mimetype": "text/x-python",
   "name": "python",
   "nbconvert_exporter": "python",
   "pygments_lexer": "ipython3",
   "version": "3.5.2"
  }
 },
 "nbformat": 4,
 "nbformat_minor": 2
}
